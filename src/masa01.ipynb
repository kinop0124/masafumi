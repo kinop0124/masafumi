{
 "cells": [
  {
   "cell_type": "markdown",
   "metadata": {},
   "source": [
    "# 1 敗血症の回復時におけるT-Cellの役割の数理モデル（仮称）"
   ]
  },
  {
   "cell_type": "markdown",
   "metadata": {},
   "source": [
    "敗血症の回復時においてマイクログリアからのIL4が主役となり炎症を抑制（？）しているというのがこれまでの視点．（雅史：仮説）回復時においてT-CellもIL4を算出しているので，このT-Cellの役割も無視できないのでは？\n",
    "この仮説を簡単化した数理モデルで表し，まずは実験で示されているIL4の時系列データを定性的に再現する．"
   ]
  },
  {
   "cell_type": "markdown",
   "metadata": {},
   "source": [
    "$$\n",
    "\\begin{align*}\n",
    "\\frac{dM_{1}(t)}{dt} &= \\alpha f_1(t)- \\beta f_2(M_1, T_{reg}) \\\\\n",
    "\\frac{dM_2(t)}{dt} &= \\beta f_2(M_1, T_{reg}) \\\\\n",
    "\\frac{dT_{reg}}{dt} &= C\n",
    "\n",
    "\\end{align*}\n",
    "$$"
   ]
  },
  {
   "cell_type": "markdown",
   "metadata": {},
   "source": [
    "$M_1$：炎症性？マイクログリア，$M_2$：抗炎症性マイクログリア，$T_{reg}$：脳にあるT-Cell，$\\alpha, \\beta$：比例定数，$C$：正の定数\n",
    "\n",
    "実験結果から次の条件を仮定する．\n",
    "- $ t \\rightarrow \\infty $のとき$M_1+M_2$は保存される．\n",
    "- $M_1(t)$は上限のある単調増加関数\n",
    "- $f_2(M_1, T_{reg})$は$M_1$と$T_{reg}$に比例（質量作用の法則より）\n",
    "\n",
    "ここでは簡単な例として，以下の関数形をとる．\n",
    "- $f_1(t) := \\gamma \\exp(-\\gamma t)$\n",
    "- $f_2(M_1, T_{reg}):= M_1T_{reg}$"
   ]
  },
  {
   "cell_type": "code",
   "execution_count": 5,
   "metadata": {},
   "outputs": [
    {
     "name": "stdout",
     "output_type": "stream",
     "text": [
      "[0.0, 0.0007429338909966954, 0.007295206799618484, 0.021451987682042834, 0.04066106741807586, 0.06624736019629714, 0.10007601203729924, 0.14444623378461008, 0.2027241430245348, 0.2800737509933863, 0.3854446569128893, 0.5363322691770847, 0.7723434295590601, 1.2021484182511624, 1.8627913793419308, 2.6557312515899643, 3.661738915717585, 4.887693273942221, 6.194840871943102, 7.320399029097319, 8.432110132578554, 9.451776231213547, 10.0]"
     ]
    }
   ],
   "source": [
    "using DifferentialEquations, Plots, LaTeXStrings\n",
    "\n",
    "function sepsis1(du, u, p, t)\n",
    "    γ=20\n",
    "    α=1\n",
    "    β=0.1\n",
    "    C=1\n",
    "   \n",
    "    du[1]=α*γ*exp(-γ*t)-β*u[1]*u[3]\n",
    "    du[2]=β*u[1]*u[3]\n",
    "    du[3]=C\n",
    "end\n",
    "\n",
    "function main()\n",
    "    u0=[0.01, 0.0, 1.0]\n",
    "    tspan=(0.0, 10.0)\n",
    "    prob=ODEProblem(sepsis1,u0,tspan)\n",
    "    sol=solve(prob)\n",
    "    \n",
    "    # u[] の時間変化を抽出\n",
    "    u1_values = [row[1] for row in sol.u]\n",
    "    u2_values = [row[2] for row in sol.u]\n",
    "    print(sol.t)\n",
    "    # 時間と u[1] の値をプロット\n",
    "    plot(sol.t, u1_values, width=5, xlabel=L\"t\", ylabel=\"Conentration\", legend= :right, label=L\"$M_1$\")\n",
    "    plot!(sol.t, u2_values, width=5, label=L\"$M_2$\")\n",
    "    plot!(sol.t, u1_values+u2_values, width=5, label=L\"$M_1+M_2$\")\n",
    "    savefig(\"../fig/masafig01.svg\")\n",
    "end\n",
    "\n",
    "main()"
   ]
  },
  {
   "cell_type": "code",
   "execution_count": null,
   "metadata": {},
   "outputs": [],
   "source": []
  },
  {
   "cell_type": "markdown",
   "metadata": {},
   "source": [
    "$$\n",
    "\\begin{align*}\n",
    "\\frac{dM_{1}(t)}{dt} &= \\alpha f_1(t)- \\beta f_2(M_1, T_{reg}) \\\\\n",
    "\\frac{dM_2(t)}{dt} &= \\beta f_2(M_1, T_{reg}) \\\\\n",
    "\\frac{dT_{reg}}{dt} &= C\n",
    "\n",
    "\\end{align*}\n",
    "$$"
   ]
  },
  {
   "cell_type": "markdown",
   "metadata": {},
   "source": []
  }
 ],
 "metadata": {
  "kernelspec": {
   "display_name": "Julia 1.8.2",
   "language": "julia",
   "name": "julia-1.8"
  },
  "language_info": {
   "file_extension": ".jl",
   "mimetype": "application/julia",
   "name": "julia",
   "version": "1.8.2"
  },
  "orig_nbformat": 4
 },
 "nbformat": 4,
 "nbformat_minor": 2
}
