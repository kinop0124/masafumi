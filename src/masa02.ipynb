{
 "cells": [
  {
   "cell_type": "markdown",
   "metadata": {},
   "source": [
    "# 1 敗血症の回復時におけるT-Cellの役割の数理モデル（仮称）"
   ]
  },
  {
   "cell_type": "markdown",
   "metadata": {},
   "source": [
    "敗血症の回復時においてマイクログリアからのIL4が主役となり炎症を抑制（？）しているというのがこれまでの視点．（雅史：仮説）回復時においてT-CellもIL4を算出しているので，このT-Cellの役割も無視できないのでは？この仮説を簡単化した数理モデルで表し，まずは実験で示されているIL4の時系列データを定性的に再現する．"
   ]
  },
  {
   "cell_type": "markdown",
   "metadata": {},
   "source": [
    "$\n",
    "\\begin{align}\n",
    "\\frac{dM_{1}(t)}{dt} &= \\alpha f_1(t)- \\beta f_2(M_1, T_{reg}) \\\\\n",
    "\\frac{dM_2(t)}{dt} &= \\beta f_2(M_1, T_{reg})\\\\\n",
    "\\frac{dT_{reg}}{dt} &= C\n",
    "\\end{align}\n",
    "$"
   ]
  },
  {
   "cell_type": "markdown",
   "metadata": {},
   "source": [
    "$M_1$：炎症性？マイクログリア，$M_2$：抗炎症性マイクログリア，$T_{reg}$：脳にあるT-Cell，$\\alpha, \\beta$：比例定数，$C$：正の定数\n",
    "実験結果から次の条件を仮定する．\n",
    "- $ t \\rightarrow \\infty $のとき$M_1+M_2$は保存される,\n",
    "- $M_1(t)$は上限のある単調増加関数\\n\",\n",
    "    \"- $f_2(M_1, T_{reg})$は$M_1$と$T_{reg}$に比例（質量作用の法則より）\\n\",\n",
    "    \"\\n\",\n",
    "    \"ここでは簡単な例として，以下の関数形をとる．\\n\",\n",
    "    \"- $f_1(t) := \\\\gamma \\\\exp(-\\\\gamma t)$\\n\",\n",
    "    \"- $f_2(M_1, T_{reg}):= M_1T_{reg}$"
   ]
  },
  {
   "cell_type": "markdown",
   "metadata": {},
   "source": []
  }
 ],
 "metadata": {
  "kernelspec": {
   "display_name": "Julia 1.9.2",
   "language": "julia",
   "name": "julia-1.9"
  },
  "language_info": {
   "file_extension": ".jl",
   "mimetype": "application/julia",
   "name": "julia",
   "version": "1.9.2"
  },
  "orig_nbformat": 4
 },
 "nbformat": 4,
 "nbformat_minor": 2
}
