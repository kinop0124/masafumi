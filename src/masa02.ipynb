{
 "cells": [
  {
   "cell_type": "markdown",
   "metadata": {},
   "source": [
    "# 1 敗血症の回復時におけるT-Cellの役割の数理モデル（仮称）"
   ]
  },
  {
   "cell_type": "markdown",
   "metadata": {},
   "source": [
    "敗血症の回復時においてマイクログリアからのIL4が主役となり炎症を抑制（？）しているというのがこれまでの視点．（雅史：仮説）回復時においてT-CellもIL4を算出しているので，このT-Cellの役割も無視できないのでは？この仮説を簡単化した数理モデルで表し，まずは実験で示されているIL4の時系列データを定性的に再現する．"
   ]
  },
  {
   "cell_type": "markdown",
   "metadata": {},
   "source": [
    "$\n",
    "\\begin{align}\n",
    "\\frac{dM_{1}(t)}{dt} &= \\alpha f_1(t)- \\beta f_2(M_1, T_{reg}) \\\\\n",
    "\\frac{dM_2(t)}{dt} &= \\beta f_2(M_1, T_{reg})\\\\\n",
    "\\frac{dT_{reg}}{dt} &= C\n",
    "\\end{align}\n",
    "$"
   ]
  },
  {
   "cell_type": "markdown",
   "metadata": {},
   "source": [
    "$M_1$：炎症性？マイクログリア，$M_2$：抗炎症性マイクログリア，$T_{reg}$：脳にあるT-Cell，$\\alpha, \\beta$：比例定数，$C$：正の定数\n",
    "実験結果から次の条件を仮定する．\n",
    "- $ t \\rightarrow \\infty $のとき$M_1+M_2$は保存される,\n",
    "- $M_1(t)$は上限のある単調増加関数\\n\",\n",
    "    \"- $f_2(M_1, T_{reg})$は$M_1$と$T_{reg}$に比例（質量作用の法則より）\\n\",\n",
    "    \"\\n\",\n",
    "    \"ここでは簡単な例として，以下の関数形をとる．\\n\",\n",
    "    \"- $f_1(t) := \\\\gamma \\\\exp(-\\\\gamma t)$\\n\",\n",
    "    \"- $f_2(M_1, T_{reg}):= M_1T_{reg}$"
   ]
  },
  {
   "cell_type": "markdown",
   "metadata": {},
   "source": [
    "    \"using DifferentialEquations, Plots, LaTeXStrings\\n\",\n",
    "    \"\\n\",\n",
    "    \"function sepsis1(du, u, p, t)\\n\",\n",
    "    \"    γ=10\\n\",\n",
    "    \"    α=1\\n\",\n",
    "    \"    β=0.1\\n\",\n",
    "    \"    C=1\\n\",\n",
    "    \"   \\n\",\n",
    "    \"    du[1]=α*γ*exp(-γ*t)-β*u[1]*u[3]\\n\",\n",
    "    \"    du[2]=β*u[1]*u[3]\\n\",\n",
    "    \"    du[3]=C\\n\",\n",
    "    \"end\\n\",\n",
    "    \"\\n\",\n",
    "    \"function main()\\n\",\n",
    "    \"    u0=[0.01, 0.0, 1.0]\\n\",\n",
    "    \"    tspan=(0.0, 10.0)\\n\",\n",
    "    \"    prob=ODEProblem(sepsis1,u0,tspan)\\n\",\n",
    "    \"    sol=solve(prob)\\n\",\n",
    "    \"    \\n\",\n",
    "    \"    # u[] の時間変化を抽出\\n\",\n",
    "    \"    u1_values = [row[1] for row in sol.u]\\n\",\n",
    "    \"    u2_values = [row[2] for row in sol.u]\\n\",\n",
    "    \"    print(sol.t)\\n\",\n",
    "    \"    # 時間と u[1] の値をプロット\\n\",\n",
    "    \"    plot(sol.t, u1_values, width=5, xlabel=L\\\"t\\\", ylabel=L\\\"$Fraction$\\\", legend= :topright, label=L\\\"$M_1$\\\")\\n\",\n",
    "    \"    plot!(sol.t, u2_values, width=5, label=L\\\"$M_2$\\\")\\n\",\n",
    "    \"end\\n\",\n",
    "    \"\\n\",\n",
    "    \"main()\""
   ]
  }
 ],
 "metadata": {
  "kernelspec": {
   "display_name": "Julia 1.9.2",
   "language": "julia",
   "name": "julia-1.9"
  },
  "language_info": {
   "file_extension": ".jl",
   "mimetype": "application/julia",
   "name": "julia",
   "version": "1.9.2"
  },
  "orig_nbformat": 4
 },
 "nbformat": 4,
 "nbformat_minor": 2
}
